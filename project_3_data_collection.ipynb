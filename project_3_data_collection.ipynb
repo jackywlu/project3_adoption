{
 "cells": [
  {
   "cell_type": "markdown",
   "metadata": {},
   "source": [
    "Project 3: Classification\n",
    "\n",
    "The goal of this project is to build a machine learning model to predict a category for a dataset.\n",
    "\n",
    "For this project, I use Sonoma County's Animal Shelter Intake and Outake data to predict the likelihood an animal will be returned from adoption.\n",
    "\n",
    "In this notebook, I save the data from Sonoma County's Animal Shelter Intake and Outake data into a pickle file, prep the data, and clean it up."
   ]
  },
  {
   "cell_type": "markdown",
   "metadata": {},
   "source": [
    "### Table of Contents\n",
    "1. Imports\n",
    "2. Data Collection\n",
    "3. Data Cleaning and Preparation"
   ]
  },
  {
   "cell_type": "markdown",
   "metadata": {},
   "source": [
    "#### 1. Imports"
   ]
  },
  {
   "cell_type": "code",
   "execution_count": 1,
   "metadata": {},
   "outputs": [],
   "source": [
    "import pandas as pd\n",
    "import numpy as np\n",
    "import matplotlib.pyplot as plt\n",
    "import pickle\n",
    "\n",
    "%matplotlib inline"
   ]
  },
  {
   "cell_type": "markdown",
   "metadata": {},
   "source": [
    "#### 2. Data Collection\n",
    "\n",
    "On July 20, 2020, I used Socrata's Open Data API to access Sonoma County's Animal Shelter Intake and Outake data. This data is provided by the County of Sonoma's Department of Health Services. It lists animals that are taken in, features about the animal such as type, breed, and gender, and the related intake/outake data such as condition, reason, etc."
   ]
  },
  {
   "cell_type": "code",
   "execution_count": 5,
   "metadata": {},
   "outputs": [],
   "source": [
    "# import Socrata API\n",
    "from sodapy import Socrata"
   ]
  },
  {
   "cell_type": "code",
   "execution_count": 6,
   "metadata": {},
   "outputs": [],
   "source": [
    "# Use Authenticated client to grab data. Fill in using a Socrata username and password\n",
    "client = Socrata(\"data.sonomacounty.ca.gov\",\n",
    "                \"YIJwNZXuLC7fQwZI1aclzXFAB\",\n",
    "                username=\"\",\n",
    "                password=\"\")\n",
    "\n",
    "# 924a-vews is the code for Sonoma County's animal shelter intake and outake data\n",
    "results = client.get(\"924a-vesw\", limit=19690)\n",
    "animal_df = pd.DataFrame.from_records(results)"
   ]
  },
  {
   "cell_type": "code",
   "execution_count": 7,
   "metadata": {},
   "outputs": [],
   "source": [
    "# Save animal_df as a pickle file\n",
    "with open(\"data/animal_df.pickle\", 'wb') as write_file:\n",
    "    pickle.dump(animal_df, write_file)"
   ]
  },
  {
   "cell_type": "markdown",
   "metadata": {},
   "source": [
    "#### 3. Data Cleaning and Preparation\n",
    "\n",
    "Now that animal data is saved as a dataframe, I examine and clean it up. I'll need to check for null values and decide what to do with missing data. I also need to convert some datatype to DateTime objects for future use. As I'm cleaning the data, I will also be looking at the features and thinking about how they would fit into my classification model."
   ]
  },
  {
   "cell_type": "code",
   "execution_count": 6,
   "metadata": {},
   "outputs": [],
   "source": [
    "with open('data/animal_df.pickle', 'rb') as read_file:\n",
    "    animal_df = pickle.load(read_file)"
   ]
  },
  {
   "cell_type": "code",
   "execution_count": 7,
   "metadata": {
    "collapsed": true
   },
   "outputs": [
    {
     "name": "stdout",
     "output_type": "stream",
     "text": [
      "<class 'pandas.core.frame.DataFrame'>\n",
      "RangeIndex: 19690 entries, 0 to 19689\n",
      "Data columns (total 25 columns):\n",
      " #   Column                       Non-Null Count  Dtype \n",
      "---  ------                       --------------  ----- \n",
      " 0   name                         14679 non-null  object\n",
      " 1   type                         19690 non-null  object\n",
      " 2   breed                        19690 non-null  object\n",
      " 3   color                        19690 non-null  object\n",
      " 4   sex                          19690 non-null  object\n",
      " 5   size                         19659 non-null  object\n",
      " 6   date_of_birth                14953 non-null  object\n",
      " 7   impound_number               19690 non-null  object\n",
      " 8   kennel_number                19669 non-null  object\n",
      " 9   id                           19690 non-null  object\n",
      " 10  intake_date                  19690 non-null  object\n",
      " 11  days_in_shelter              19690 non-null  object\n",
      " 12  intake_type                  19690 non-null  object\n",
      " 13  intake_subtype               19690 non-null  object\n",
      " 14  intake_condition             19690 non-null  object\n",
      " 15  intake_jurisdiction          19690 non-null  object\n",
      " 16  outcome_jurisdiction         16914 non-null  object\n",
      " 17  zip_code                     16888 non-null  object\n",
      " 18  location                     16888 non-null  object\n",
      " 19  intake_total                 19690 non-null  object\n",
      " 20  :@computed_region_dig5_f3vy  16835 non-null  object\n",
      " 21  outcome_date                 19580 non-null  object\n",
      " 22  outcome_type                 19577 non-null  object\n",
      " 23  outcome_subtype              19411 non-null  object\n",
      " 24  outcome_condition            19384 non-null  object\n",
      "dtypes: object(25)\n",
      "memory usage: 3.8+ MB\n"
     ]
    }
   ],
   "source": [
    "animal_df.info()"
   ]
  },
  {
   "cell_type": "markdown",
   "metadata": {},
   "source": [
    "There are 19,690 rows. Many columns have 19,000+ non-null values. That means I don't need to impute too many data points. Columns that concern me are \"name\", which has 14,684 non-null objects and \"date_of_birth\", which has 14,958 non-null objects.\n",
    "\n",
    "Additionally, all of the datatypes are objects, so I need to convert them to the appropriate types."
   ]
  },
  {
   "cell_type": "markdown",
   "metadata": {},
   "source": [
    "Time to explore my data. What kinds of values do I have? What features do I want to include in my model?"
   ]
  },
  {
   "cell_type": "code",
   "execution_count": 25,
   "metadata": {},
   "outputs": [
    {
     "data": {
      "text/plain": [
       "DOG      11127\n",
       "CAT       7030\n",
       "OTHER     1533\n",
       "Name: type, dtype: int64"
      ]
     },
     "execution_count": 25,
     "metadata": {},
     "output_type": "execute_result"
    }
   ],
   "source": [
    "# The majority of animals are dogs.\n",
    "animal_df[\"type\"].value_counts()"
   ]
  },
  {
   "cell_type": "code",
   "execution_count": 23,
   "metadata": {},
   "outputs": [
    {
     "data": {
      "text/plain": [
       "HEALTHY                 12858\n",
       "UNTREATABLE              2361\n",
       "PENDING                  1444\n",
       "TREATABLE/MANAGEABLE     1234\n",
       "TREATABLE/REHAB          1192\n",
       "DEAD                      299\n",
       "Name: outcome_condition, dtype: int64"
      ]
     },
     "execution_count": 23,
     "metadata": {},
     "output_type": "execute_result"
    }
   ],
   "source": [
    "# Six different outcome conditions\n",
    "animal_df[\"outcome_condition\"].value_counts()"
   ]
  },
  {
   "cell_type": "code",
   "execution_count": 19,
   "metadata": {},
   "outputs": [
    {
     "data": {
      "text/plain": [
       "RETURN TO OWNER    6600\n",
       "ADOPTION           6284\n",
       "TRANSFER           3659\n",
       "EUTHANIZE          2753\n",
       "DIED                134\n",
       "DISPOSAL            121\n",
       "ESCAPED/STOLEN       17\n",
       "RTOS                  7\n",
       "Name: outcome_type, dtype: int64"
      ]
     },
     "execution_count": 19,
     "metadata": {},
     "output_type": "execute_result"
    }
   ],
   "source": [
    "# Most outcomes are returning to owner or adoption.\n",
    "animal_df[\"outcome_type\"].value_counts()"
   ]
  },
  {
   "cell_type": "code",
   "execution_count": 43,
   "metadata": {},
   "outputs": [
    {
     "data": {
      "text/plain": [
       "STRAY              14412\n",
       "OWNER SURRENDER     2597\n",
       "CONFISCATE          1404\n",
       "QUARANTINE           505\n",
       "TRANSFER             432\n",
       "ADOPTION RETURN      340\n",
       "Name: intake_type, dtype: int64"
      ]
     },
     "execution_count": 43,
     "metadata": {},
     "output_type": "execute_result"
    }
   ],
   "source": [
    "# Target feature of adoption returns is really low\n",
    "animal_df[\"intake_type\"].value_counts()"
   ]
  },
  {
   "cell_type": "markdown",
   "metadata": {},
   "source": [
    "There are 6 different intake types. Initially, I was going to focus my project on which animals were adopted. However, because the large majority of pets are adopted or returned to their owner, it didn't seem like a very interesting project. Instead, I think it would be interesting to focus on animals that were returned from adoption.\n",
    "\n",
    "Why were the pets returned from adoption? Are there certain breeds or animal sizes that are more likely to be returned? What features are associated with being returned from adoption?"
   ]
  },
  {
   "cell_type": "markdown",
   "metadata": {},
   "source": [
    "Narrowing down features\n",
    "* name (turn into a boolean)\n",
    "* type (dog, cat, or other)\n",
    "* breed (will need narrow down or exclude entirely because there are hundreds of different breeds)\n",
    "* color (does this matter?)\n",
    "* sex\n",
    "* size\n",
    "* date of birth (will need to get age from this; some may be null)\n",
    "* outcome type, outcome subtype\n",
    "* intake condition, outcome condition\n",
    "* intake jurisdiction, outcome jurisdiction\n",
    "* zip code\n",
    "* location\n",
    "\n",
    "Target variable:\n",
    "* intake type: Adoption Return\n",
    "\n",
    "Features to drop:\n",
    "* impound number, kennel number, animal ID"
   ]
  },
  {
   "cell_type": "code",
   "execution_count": 8,
   "metadata": {},
   "outputs": [],
   "source": [
    "# drop identification columns that aren't necessary for building my classification model\n",
    "animal_df = animal_df.drop(columns=['impound_number', 'kennel_number', 'id', ':@computed_region_dig5_f3vy'])"
   ]
  },
  {
   "cell_type": "markdown",
   "metadata": {},
   "source": [
    "Clean up \"Sex\" column:<br/>\n",
    "* Currently, there are 5 different sexes: Neutered, Spayed, Male, Female, and Unknown\n",
    "* male pets have been neutered\n",
    "* female pets have been spayed"
   ]
  },
  {
   "cell_type": "code",
   "execution_count": 10,
   "metadata": {},
   "outputs": [
    {
     "data": {
      "text/plain": [
       "Neutered    6799\n",
       "Spayed      5706\n",
       "Male        2994\n",
       "Female      2549\n",
       "Unknown     1642\n",
       "Name: sex, dtype: int64"
      ]
     },
     "execution_count": 10,
     "metadata": {},
     "output_type": "execute_result"
    }
   ],
   "source": [
    "# the sex column has 5 different values, but for gender, I want 3 values: Male, Female, and Unknown\n",
    "animal_df[\"sex\"].value_counts()"
   ]
  },
  {
   "cell_type": "code",
   "execution_count": 9,
   "metadata": {},
   "outputs": [
    {
     "data": {
      "text/plain": [
       "Male       9793\n",
       "Female     8255\n",
       "Unknown    1642\n",
       "Name: gender, dtype: int64"
      ]
     },
     "execution_count": 9,
     "metadata": {},
     "output_type": "execute_result"
    }
   ],
   "source": [
    "# Create a new gender column and specify that Neutered and Spayed are Male and Female respectively\n",
    "animal_df[\"gender\"] = animal_df[\"sex\"].apply(lambda x: \"Male\" if x == \"Neutered\" else \"Female\" if x == \"Spayed\" else x)\n",
    "animal_df[\"gender\"].value_counts()"
   ]
  },
  {
   "cell_type": "code",
   "execution_count": 11,
   "metadata": {},
   "outputs": [],
   "source": [
    "# Create another column indicating whether the animal has been spayed or neutered\n",
    "animal_df[\"spay_neuter\"] = animal_df[\"sex\"].apply(lambda x: 1 if x == \"Neutered\" else 1 if x == \"Spayed\" else 0)"
   ]
  },
  {
   "cell_type": "code",
   "execution_count": 12,
   "metadata": {},
   "outputs": [],
   "source": [
    "# turn date columns into datetime objects\n",
    "animal_df[\"date_of_birth\"] = pd.to_datetime(animal_df[\"date_of_birth\"], format='%Y-%m-%d')\n",
    "animal_df[\"intake_date\"] = pd.to_datetime(animal_df[\"intake_date\"], format='%Y-%m-%d')\n",
    "animal_df[\"outcome_date\"] = pd.to_datetime(animal_df[\"outcome_date\"], format='%Y-%m-%d')"
   ]
  },
  {
   "cell_type": "code",
   "execution_count": 6,
   "metadata": {},
   "outputs": [
    {
     "data": {
      "text/plain": [
       "[('RABBIT SH', 308),\n",
       " ('CHICKEN', 279),\n",
       " ('BAT', 131),\n",
       " ('GOAT', 81),\n",
       " ('GUINEA PIG', 68),\n",
       " ('SHEEP', 53),\n",
       " ('RAT', 45),\n",
       " ('HORSE', 38),\n",
       " ('PARAKEET', 35),\n",
       " ('KOI', 24)]"
      ]
     },
     "execution_count": 6,
     "metadata": {},
     "output_type": "execute_result"
    }
   ],
   "source": [
    "# Examine animals in the \"OTHER\" type category. Looks like there's some rabbits, birds, and other mammals.\n",
    "other_animals_list = list(zip(animal_df[animal_df[\"type\"] == \"OTHER\"][\"breed\"].value_counts().index.to_list(), animal_df[animal_df[\"type\"] == \"OTHER\"][\"breed\"].value_counts().values))\n",
    "other_animals_list[:10]"
   ]
  },
  {
   "cell_type": "code",
   "execution_count": 67,
   "metadata": {},
   "outputs": [],
   "source": [
    "# investigating animal color\n",
    "animal_color_list = animal_df[\"color\"].value_counts().index.to_list()"
   ]
  },
  {
   "cell_type": "code",
   "execution_count": 13,
   "metadata": {},
   "outputs": [],
   "source": [
    "# separate multiple colors into their own columns (Tan/White would be Color 1: Tan and Color 2: White)\n",
    "animal_df[\"color_1\"] = animal_df[animal_df[\"color\"].str.contains('/')][\"color\"].str.split('/').str[0]\n",
    "animal_df[\"color_2\"] = animal_df[animal_df[\"color\"].str.contains('/')][\"color\"].str.split('/').str[1]\n",
    "# Fill in the first color if there was only 1 primary color\n",
    "animal_df[\"color_1\"] = animal_df[\"color_1\"].fillna(animal_df[\"color\"])"
   ]
  },
  {
   "cell_type": "code",
   "execution_count": 14,
   "metadata": {},
   "outputs": [],
   "source": [
    "# split breed in a similar way to color\n",
    "animal_df[\"breed_1\"] = animal_df[animal_df[\"breed\"].str.contains('/')][\"breed\"].str.split('/').str[0]\n",
    "animal_df[\"breed_2\"] = animal_df[animal_df[\"breed\"].str.contains('/')][\"breed\"].str.split('/').str[1]\n",
    "animal_df[\"breed_1\"] = animal_df[\"breed_1\"].fillna(animal_df[\"breed\"])"
   ]
  },
  {
   "cell_type": "code",
   "execution_count": 15,
   "metadata": {},
   "outputs": [],
   "source": [
    "# clean up names; names with an asterisk before them were given by shelter staff\n",
    "animal_df[\"clean_name\"] = animal_df[\"name\"].str.replace('*','')"
   ]
  },
  {
   "cell_type": "markdown",
   "metadata": {},
   "source": [
    "Make a boolean column for whether an animal has a name or not. 1 means the animal had a name, and a 0 means the animal didn't have a name.<br/>If the name has an asterick before the name, that means it was given by shelter staff. The animal did not have a name previously, so that animal gets a 0 in this column."
   ]
  },
  {
   "cell_type": "code",
   "execution_count": 16,
   "metadata": {},
   "outputs": [],
   "source": [
    "# make a boolean column for whether a pet had a name or not\n",
    "animal_df[\"has_name\"] = animal_df[\"name\"].apply(lambda x: 0 if '*' in str(x) else 0 if pd.isnull(x) else 1)"
   ]
  },
  {
   "cell_type": "code",
   "execution_count": 13,
   "metadata": {},
   "outputs": [
    {
     "data": {
      "text/plain": [
       "SMALL    7623\n",
       "MED      3476\n",
       "LARGE    3468\n",
       "KITTN    3158\n",
       "TOY      1021\n",
       "PUPPY     713\n",
       "X-LRG     200\n",
       "Name: size, dtype: int64"
      ]
     },
     "execution_count": 13,
     "metadata": {},
     "output_type": "execute_result"
    }
   ],
   "source": [
    "# The size column looks fine\n",
    "animal_df[\"size\"].value_counts()"
   ]
  },
  {
   "cell_type": "code",
   "execution_count": 12,
   "metadata": {},
   "outputs": [
    {
     "data": {
      "text/plain": [
       "HEALTHY                 10880\n",
       "UNKNOWN                  3634\n",
       "TREATABLE/REHAB          2045\n",
       "UNTREATABLE              1910\n",
       "TREATABLE/MANAGEABLE     1221\n",
       "Name: intake_condition, dtype: int64"
      ]
     },
     "execution_count": 12,
     "metadata": {},
     "output_type": "execute_result"
    }
   ],
   "source": [
    "# examine intake condition\n",
    "animal_df[\"intake_condition\"].value_counts()"
   ]
  },
  {
   "cell_type": "code",
   "execution_count": 21,
   "metadata": {
    "collapsed": true
   },
   "outputs": [
    {
     "data": {
      "text/plain": [
       "OVER THE COUNTER                    7666\n",
       "FIELD                               7486\n",
       "COMM CAT                            1269\n",
       "FLD_ARREST                           783\n",
       "VET_HOSP                             627\n",
       "PRIV_SHELT                           313\n",
       "FLD_STRAY                            257\n",
       "FLD_CRUEL                            219\n",
       "FLD_HOSPTL                           201\n",
       "BORN_HERE                            196\n",
       "MUN_SHELT                            134\n",
       "FLD_CORONR                           121\n",
       "FIELD_RETURN TO OWNER                113\n",
       "PHONE                                 77\n",
       "FIELD_OS                              73\n",
       "FLD_EVICT                             52\n",
       "OVER THE COUNTER_STRAY                23\n",
       "OVER THE COUNTER_OS                   19\n",
       "RESCUE_GRP                            17\n",
       "OVER THE COUNTER_RETURN TO OWNER      13\n",
       "OVER THE COUNTER_ARREST               12\n",
       "FLD_LIVSTK                             9\n",
       "OVER THE COUNTER_CORONR                6\n",
       "OVER THE COUNTER_EVICT                 3\n",
       "OVER THE COUNTER_OWNED                 1\n",
       "Name: intake_subtype, dtype: int64"
      ]
     },
     "execution_count": 21,
     "metadata": {},
     "output_type": "execute_result"
    }
   ],
   "source": [
    "# intake subtype information is hard to interpret (What does COMM CAT mean?)\n",
    "animal_df[\"intake_subtype\"].value_counts()"
   ]
  },
  {
   "cell_type": "code",
   "execution_count": 8,
   "metadata": {},
   "outputs": [
    {
     "data": {
      "text/plain": [
       "OVER THE COUNTER    334\n",
       "FIELD                 6\n",
       "Name: intake_subtype, dtype: int64"
      ]
     },
     "execution_count": 8,
     "metadata": {},
     "output_type": "execute_result"
    }
   ],
   "source": [
    "# Majority of animals that were returned from adoption were over the counter\n",
    "animal_df[animal_df[\"intake_type\"] == \"ADOPTION RETURN\"][\"intake_subtype\"].value_counts()"
   ]
  },
  {
   "cell_type": "code",
   "execution_count": 17,
   "metadata": {},
   "outputs": [
    {
     "data": {
      "image/png": "[encoded data removed]",
      "text/plain": [
       "<Figure size 432x288 with 1 Axes>"
      ]
     },
     "metadata": {
      "needs_background": "light"
     },
     "output_type": "display_data"
    }
   ],
   "source": [
    "# Turn days in shelter into the int type. Looks like most animals spend less than 20 days in the shelter\n",
    "animal_df[\"days_in_shelter\"] = animal_df[\"days_in_shelter\"].astype(int)\n",
    "animal_df[\"days_in_shelter\"].plot.hist(bins=100, xlim=(0,100));"
   ]
  },
  {
   "cell_type": "code",
   "execution_count": 18,
   "metadata": {},
   "outputs": [
    {
     "data": {
      "image/png": "[encoded data removed]",
      "text/plain": [
       "<Figure size 432x288 with 1 Axes>"
      ]
     },
     "metadata": {
      "needs_background": "light"
     },
     "output_type": "display_data"
    }
   ],
   "source": [
    "# Create \"age\" column from date of birth. Age starts from 1 to avoid potential log transformation or scaling issues\n",
    "animal_df[\"age\"] = np.where(animal_df[\"date_of_birth\"].isnull(), np.nan, 2021-animal_df[\"date_of_birth\"].dt.year)\n",
    "animal_df[\"age\"].plot.hist(bins=100);"
   ]
  },
  {
   "cell_type": "markdown",
   "metadata": {},
   "source": [
    "Breed is a tricky feature. There are tons of different unique values. It looks like dog breeds are generally more descriptive than cat breeds (the large majority of cat breeds just lists DOMESTIC SH). I may drop this feature from my model."
   ]
  },
  {
   "cell_type": "code",
   "execution_count": 4,
   "metadata": {
    "collapsed": true
   },
   "outputs": [
    {
     "data": {
      "text/plain": [
       "[('PIT BULL', 1514),\n",
       " ('CHIHUAHUA SH', 942),\n",
       " ('GERM SHEPHERD', 683),\n",
       " ('PIT BULL/MIX', 641),\n",
       " ('CHIHUAHUA SH/MIX', 467),\n",
       " ('LABRADOR RETR', 416),\n",
       " ('LABRADOR RETR/MIX', 295),\n",
       " ('GERM SHEPHERD/MIX', 287),\n",
       " ('SIBERIAN HUSKY', 277),\n",
       " ('PARSON RUSS TER/MIX', 188),\n",
       " ('BORDER COLLIE/MIX', 146),\n",
       " ('PARSON RUSS TER', 121),\n",
       " ('ROTTWEILER', 112),\n",
       " ('CAIRN TERRIER/MIX', 104),\n",
       " ('BORDER COLLIE', 101),\n",
       " ('POODLE MIN/MIX', 94),\n",
       " ('POODLE MIN', 93),\n",
       " ('SHIH TZU', 92),\n",
       " ('AUST SHEPHERD/MIX', 71),\n",
       " ('AUST CATTLE DOG', 69)]"
      ]
     },
     "execution_count": 4,
     "metadata": {},
     "output_type": "execute_result"
    }
   ],
   "source": [
    "dog_breed_list = list(zip(animal_df.loc[animal_df[\"type\"] == \"DOG\", \"breed\"].value_counts().index.to_list(), animal_df.loc[animal_df[\"type\"] == \"DOG\", \"breed\"].value_counts().values))\n",
    "dog_breed_list[:20]"
   ]
  },
  {
   "cell_type": "code",
   "execution_count": 5,
   "metadata": {
    "collapsed": true
   },
   "outputs": [
    {
     "data": {
      "text/plain": [
       "[('DOMESTIC SH', 5415),\n",
       " ('DOMESTIC MH', 642),\n",
       " ('DOMESTIC LH', 570),\n",
       " ('SIAMESE', 149),\n",
       " ('SIAMESE/MIX', 116),\n",
       " ('HIMALAYAN', 17),\n",
       " ('MANX', 16),\n",
       " ('HIMALAYAN/MIX', 9),\n",
       " ('BENGAL', 9),\n",
       " ('SNOWSHOE/MIX', 8),\n",
       " ('PERSIAN', 7),\n",
       " ('SNOWSHOE', 6),\n",
       " ('MANX/MIX', 6),\n",
       " ('ABYSSINIAN/MIX', 4),\n",
       " ('DOMESTIC LH/SIAMESE', 3),\n",
       " ('MAINE COON', 3),\n",
       " ('DOMESTIC LH/MAINE COON', 3),\n",
       " ('SCOTTISH FOLD/MIX', 3),\n",
       " ('PERSIAN/MIX', 3),\n",
       " ('DOMESTIC SH/MIX', 3)]"
      ]
     },
     "execution_count": 5,
     "metadata": {},
     "output_type": "execute_result"
    }
   ],
   "source": [
    "cat_breed_list = list(zip(animal_df.loc[animal_df[\"type\"] == \"CAT\", \"breed\"].value_counts().index.to_list(), animal_df.loc[animal_df[\"type\"] == \"CAT\", \"breed\"].value_counts().values))\n",
    "cat_breed_list[:20]"
   ]
  },
  {
   "cell_type": "code",
   "execution_count": 6,
   "metadata": {
    "collapsed": true
   },
   "outputs": [
    {
     "data": {
      "text/plain": [
       "[('RABBIT SH', 308),\n",
       " ('CHICKEN', 279),\n",
       " ('BAT', 131),\n",
       " ('GOAT', 81),\n",
       " ('GUINEA PIG', 68),\n",
       " ('SHEEP', 53),\n",
       " ('RAT', 45),\n",
       " ('HORSE', 38),\n",
       " ('PARAKEET', 35),\n",
       " ('KOI', 24),\n",
       " ('PIG', 21),\n",
       " ('COCKATIEL', 20),\n",
       " ('LOP-MINI', 19),\n",
       " ('PEAFOWL', 17),\n",
       " ('HAMSTER', 16),\n",
       " ('GOOSE', 15),\n",
       " ('DUCK', 14),\n",
       " ('PIGEON', 14),\n",
       " ('ENGLISH SPOT/MIX', 13),\n",
       " ('REX', 13)]"
      ]
     },
     "execution_count": 6,
     "metadata": {},
     "output_type": "execute_result"
    }
   ],
   "source": [
    "other_breed_list = list(zip(animal_df.loc[animal_df[\"type\"] == \"OTHER\", \"breed\"].value_counts().index.to_list(), animal_df.loc[animal_df[\"type\"] == \"OTHER\", \"breed\"].value_counts().values))\n",
    "other_breed_list[:20]"
   ]
  },
  {
   "cell_type": "code",
   "execution_count": 7,
   "metadata": {},
   "outputs": [
    {
     "data": {
      "text/html": [
       "<div>\n",
       "<style scoped>\n",
       "    .dataframe tbody tr th:only-of-type {\n",
       "        vertical-align: middle;\n",
       "    }\n",
       "\n",
       "    .dataframe tbody tr th {\n",
       "        vertical-align: top;\n",
       "    }\n",
       "\n",
       "    .dataframe thead th {\n",
       "        text-align: right;\n",
       "    }\n",
       "</style>\n",
       "<table border=\"1\" class=\"dataframe\">\n",
       "  <thead>\n",
       "    <tr style=\"text-align: right;\">\n",
       "      <th></th>\n",
       "      <th>name</th>\n",
       "      <th>type</th>\n",
       "      <th>breed</th>\n",
       "      <th>color</th>\n",
       "      <th>sex</th>\n",
       "      <th>size</th>\n",
       "      <th>date_of_birth</th>\n",
       "      <th>intake_date</th>\n",
       "      <th>days_in_shelter</th>\n",
       "      <th>intake_type</th>\n",
       "      <th>...</th>\n",
       "      <th>spay_neuter</th>\n",
       "      <th>color_1</th>\n",
       "      <th>color_2</th>\n",
       "      <th>breed_1</th>\n",
       "      <th>breed_2</th>\n",
       "      <th>age</th>\n",
       "      <th>top_breeds</th>\n",
       "      <th>top_colors</th>\n",
       "      <th>adopt_return</th>\n",
       "      <th>has_name</th>\n",
       "    </tr>\n",
       "  </thead>\n",
       "  <tbody>\n",
       "    <tr>\n",
       "      <th>374</th>\n",
       "      <td>SHADOW</td>\n",
       "      <td>DOG</td>\n",
       "      <td>GERM SHEPHERD</td>\n",
       "      <td>BLACK/BROWN</td>\n",
       "      <td>Neutered</td>\n",
       "      <td>LARGE</td>\n",
       "      <td>2018-04-10</td>\n",
       "      <td>2019-10-22</td>\n",
       "      <td>18</td>\n",
       "      <td>ADOPTION RETURN</td>\n",
       "      <td>...</td>\n",
       "      <td>1</td>\n",
       "      <td>BLACK</td>\n",
       "      <td>BROWN</td>\n",
       "      <td>GERM SHEPHERD</td>\n",
       "      <td>NaN</td>\n",
       "      <td>3.0</td>\n",
       "      <td>GERM SHEPHERD</td>\n",
       "      <td>OTHER</td>\n",
       "      <td>1</td>\n",
       "      <td>1</td>\n",
       "    </tr>\n",
       "    <tr>\n",
       "      <th>397</th>\n",
       "      <td>*KENNY</td>\n",
       "      <td>CAT</td>\n",
       "      <td>DOMESTIC SH</td>\n",
       "      <td>BLACK</td>\n",
       "      <td>Neutered</td>\n",
       "      <td>KITTN</td>\n",
       "      <td>2016-05-26</td>\n",
       "      <td>2016-10-25</td>\n",
       "      <td>1</td>\n",
       "      <td>ADOPTION RETURN</td>\n",
       "      <td>...</td>\n",
       "      <td>1</td>\n",
       "      <td>BLACK</td>\n",
       "      <td>NaN</td>\n",
       "      <td>DOMESTIC SH</td>\n",
       "      <td>NaN</td>\n",
       "      <td>5.0</td>\n",
       "      <td>DOMESTIC SH</td>\n",
       "      <td>BLACK</td>\n",
       "      <td>1</td>\n",
       "      <td>0</td>\n",
       "    </tr>\n",
       "    <tr>\n",
       "      <th>447</th>\n",
       "      <td>*NIKKI</td>\n",
       "      <td>DOG</td>\n",
       "      <td>YORKSHIRE TERR/MIX</td>\n",
       "      <td>BLACK/GRAY</td>\n",
       "      <td>Spayed</td>\n",
       "      <td>TOY</td>\n",
       "      <td>2013-11-21</td>\n",
       "      <td>2017-11-21</td>\n",
       "      <td>1</td>\n",
       "      <td>ADOPTION RETURN</td>\n",
       "      <td>...</td>\n",
       "      <td>1</td>\n",
       "      <td>BLACK</td>\n",
       "      <td>GRAY</td>\n",
       "      <td>YORKSHIRE TERR</td>\n",
       "      <td>MIX</td>\n",
       "      <td>8.0</td>\n",
       "      <td>OTHER</td>\n",
       "      <td>OTHER</td>\n",
       "      <td>1</td>\n",
       "      <td>0</td>\n",
       "    </tr>\n",
       "    <tr>\n",
       "      <th>476</th>\n",
       "      <td>PRINCESS</td>\n",
       "      <td>DOG</td>\n",
       "      <td>CHIHUAHUA SH/MIX</td>\n",
       "      <td>TAN/WHITE</td>\n",
       "      <td>Spayed</td>\n",
       "      <td>PUPPY</td>\n",
       "      <td>2016-08-13</td>\n",
       "      <td>2017-03-31</td>\n",
       "      <td>8</td>\n",
       "      <td>ADOPTION RETURN</td>\n",
       "      <td>...</td>\n",
       "      <td>1</td>\n",
       "      <td>TAN</td>\n",
       "      <td>WHITE</td>\n",
       "      <td>CHIHUAHUA SH</td>\n",
       "      <td>MIX</td>\n",
       "      <td>5.0</td>\n",
       "      <td>CHIHUAHUA SH/MIX</td>\n",
       "      <td>TAN/WHITE</td>\n",
       "      <td>1</td>\n",
       "      <td>1</td>\n",
       "    </tr>\n",
       "    <tr>\n",
       "      <th>496</th>\n",
       "      <td>*COLE</td>\n",
       "      <td>DOG</td>\n",
       "      <td>CAIRN TERRIER/YORKSHIRE TERR</td>\n",
       "      <td>BROWN/BLACK</td>\n",
       "      <td>Neutered</td>\n",
       "      <td>SMALL</td>\n",
       "      <td>2017-07-01</td>\n",
       "      <td>2020-01-03</td>\n",
       "      <td>0</td>\n",
       "      <td>ADOPTION RETURN</td>\n",
       "      <td>...</td>\n",
       "      <td>1</td>\n",
       "      <td>BROWN</td>\n",
       "      <td>BLACK</td>\n",
       "      <td>CAIRN TERRIER</td>\n",
       "      <td>YORKSHIRE TERR</td>\n",
       "      <td>4.0</td>\n",
       "      <td>OTHER</td>\n",
       "      <td>OTHER</td>\n",
       "      <td>1</td>\n",
       "      <td>0</td>\n",
       "    </tr>\n",
       "  </tbody>\n",
       "</table>\n",
       "<p>5 rows × 32 columns</p>\n",
       "</div>"
      ],
      "text/plain": [
       "         name type                         breed        color       sex  \\\n",
       "374    SHADOW  DOG                 GERM SHEPHERD  BLACK/BROWN  Neutered   \n",
       "397    *KENNY  CAT                   DOMESTIC SH        BLACK  Neutered   \n",
       "447    *NIKKI  DOG            YORKSHIRE TERR/MIX   BLACK/GRAY    Spayed   \n",
       "476  PRINCESS  DOG              CHIHUAHUA SH/MIX    TAN/WHITE    Spayed   \n",
       "496     *COLE  DOG  CAIRN TERRIER/YORKSHIRE TERR  BROWN/BLACK  Neutered   \n",
       "\n",
       "      size date_of_birth intake_date  days_in_shelter      intake_type  ...  \\\n",
       "374  LARGE    2018-04-10  2019-10-22               18  ADOPTION RETURN  ...   \n",
       "397  KITTN    2016-05-26  2016-10-25                1  ADOPTION RETURN  ...   \n",
       "447    TOY    2013-11-21  2017-11-21                1  ADOPTION RETURN  ...   \n",
       "476  PUPPY    2016-08-13  2017-03-31                8  ADOPTION RETURN  ...   \n",
       "496  SMALL    2017-07-01  2020-01-03                0  ADOPTION RETURN  ...   \n",
       "\n",
       "    spay_neuter color_1 color_2         breed_1         breed_2  age  \\\n",
       "374           1   BLACK   BROWN   GERM SHEPHERD             NaN  3.0   \n",
       "397           1   BLACK     NaN     DOMESTIC SH             NaN  5.0   \n",
       "447           1   BLACK    GRAY  YORKSHIRE TERR             MIX  8.0   \n",
       "476           1     TAN   WHITE    CHIHUAHUA SH             MIX  5.0   \n",
       "496           1   BROWN   BLACK   CAIRN TERRIER  YORKSHIRE TERR  4.0   \n",
       "\n",
       "           top_breeds top_colors adopt_return has_name  \n",
       "374     GERM SHEPHERD      OTHER            1        1  \n",
       "397       DOMESTIC SH      BLACK            1        0  \n",
       "447             OTHER      OTHER            1        0  \n",
       "476  CHIHUAHUA SH/MIX  TAN/WHITE            1        1  \n",
       "496             OTHER      OTHER            1        0  \n",
       "\n",
       "[5 rows x 32 columns]"
      ]
     },
     "execution_count": 7,
     "metadata": {},
     "output_type": "execute_result"
    }
   ],
   "source": [
    "# Briefly looking into what animals have been returned from adoption\n",
    "adopt_return_df = animal_df[animal_df[\"intake_type\"] == \"ADOPTION RETURN\"]\n",
    "adopt_return_df.head()"
   ]
  },
  {
   "cell_type": "code",
   "execution_count": 8,
   "metadata": {},
   "outputs": [
    {
     "data": {
      "text/plain": [
       "[('DOMESTIC SH', 76),\n",
       " ('PIT BULL', 31),\n",
       " ('CHIHUAHUA SH', 21),\n",
       " ('PIT BULL/MIX', 15),\n",
       " ('GERM SHEPHERD', 15),\n",
       " ('CHIHUAHUA SH/MIX', 11),\n",
       " ('DOMESTIC LH', 8),\n",
       " ('GERM SHEPHERD/MIX', 7),\n",
       " ('PARSON RUSS TER/MIX', 5),\n",
       " ('POMERANIAN/ITAL GREYHOUND', 4)]"
      ]
     },
     "execution_count": 8,
     "metadata": {},
     "output_type": "execute_result"
    }
   ],
   "source": [
    "# Are there any common breeds that are returned from adoption?\n",
    "adopt_return_list = list(zip(adopt_return_df[\"breed\"].value_counts().index.to_list(), adopt_return_df[\"breed\"].value_counts().values))\n",
    "adopt_return_list[:10]"
   ]
  },
  {
   "cell_type": "code",
   "execution_count": 36,
   "metadata": {},
   "outputs": [
    {
     "name": "stdout",
     "output_type": "stream",
     "text": [
      "112\n"
     ]
    }
   ],
   "source": [
    "# there are 112 unique breeds of animals that have been returned from adoption\n",
    "print(len(adopt_return_list))"
   ]
  },
  {
   "cell_type": "code",
   "execution_count": 39,
   "metadata": {},
   "outputs": [
    {
     "data": {
      "text/plain": [
       "ADOPTION           260\n",
       "TRANSFER            46\n",
       "EUTHANIZE           29\n",
       "RETURN TO OWNER      4\n",
       "DIED                 1\n",
       "Name: outcome_type, dtype: int64"
      ]
     },
     "execution_count": 39,
     "metadata": {},
     "output_type": "execute_result"
    }
   ],
   "source": [
    "# The good news is that most animals that are returned from adoption are adopted again.\n",
    "adopt_return_df[\"outcome_type\"].value_counts()"
   ]
  },
  {
   "cell_type": "code",
   "execution_count": 42,
   "metadata": {},
   "outputs": [
    {
     "data": {
      "text/plain": [
       "SANTA ROSA       165\n",
       "COUNTY            87\n",
       "*WINDSOR          25\n",
       "OUT OF COUNTY     22\n",
       "*ROHNERT PARK     15\n",
       "*HEALDSBURG       12\n",
       "*PETALUMA          6\n",
       "*CLOVERDALE        5\n",
       "*SONOMA            1\n",
       "*SEBASTOPOL        1\n",
       "*COTATI            1\n",
       "Name: intake_jurisdiction, dtype: int64"
      ]
     },
     "execution_count": 42,
     "metadata": {},
     "output_type": "execute_result"
    }
   ],
   "source": [
    "# Are there particular counties that have higher adoption return rates?\n",
    "adopt_return_df[\"intake_jurisdiction\"].value_counts()"
   ]
  },
  {
   "cell_type": "markdown",
   "metadata": {},
   "source": [
    "I have some categorical variables. For some models, I'll need to make dummy variables. This means I'll need to drop one column. I'll run a quick and dirty logistic regression and look at what features have higher beta coefficients. I need to make sure that I include those in my model."
   ]
  },
  {
   "cell_type": "code",
   "execution_count": 19,
   "metadata": {},
   "outputs": [
    {
     "data": {
      "text/plain": [
       "type                     3\n",
       "breed                  933\n",
       "color                  315\n",
       "gender                   3\n",
       "intake_jurisdiction     13\n",
       "intake_subtype          25\n",
       "dtype: int64"
      ]
     },
     "execution_count": 19,
     "metadata": {},
     "output_type": "execute_result"
    }
   ],
   "source": [
    "animal_df[[\"type\", \"breed\", \"color\", \"gender\", \"intake_jurisdiction\", \"intake_subtype\"]].nunique()"
   ]
  },
  {
   "cell_type": "markdown",
   "metadata": {},
   "source": [
    "Now, I want to use LogisticRegression to help me do feature selection. Which features have the highest coefficients?"
   ]
  },
  {
   "cell_type": "code",
   "execution_count": 10,
   "metadata": {},
   "outputs": [],
   "source": [
    "from sklearn.linear_model import LogisticRegression"
   ]
  },
  {
   "cell_type": "code",
   "execution_count": 11,
   "metadata": {},
   "outputs": [],
   "source": [
    "categorical_columns = [\"type\", \"breed\", \"color\", \"gender\", \"intake_jurisdiction\", \"intake_subtype\"]\n",
    "coefficient_dict = {}\n",
    "\n",
    "for column in categorical_columns:\n",
    "    logreg = LogisticRegression()\n",
    "    x = pd.get_dummies(animal_df[column])\n",
    "    y = animal_df[\"adopt_return\"]\n",
    "    logreg.fit(x, y)\n",
    "    \n",
    "    #grab the coefficients\n",
    "    coefs = logreg.coef_[0]\n",
    "    \n",
    "    # get index of array that would sort the array from lowest to highest coefficients\n",
    "    idx = coefs.argsort()\n",
    "    \n",
    "    # correlate index to features. The features will be sorted from lowest to highest coefficients\n",
    "    feature_list = [x.columns[i] for i in idx]\n",
    "    \n",
    "    # grab the top 10 features with the highest coefficients\n",
    "    top_features = feature_list[-10:]\n",
    "    coefficient_dict[column] = top_features"
   ]
  },
  {
   "cell_type": "code",
   "execution_count": 12,
   "metadata": {},
   "outputs": [
    {
     "data": {
      "text/plain": [
       "{'type': ['OTHER', 'CAT', 'DOG'],\n",
       " 'breed': ['DUTCH SHEPHERD/MIX',\n",
       "  'TR WALKER HOUND/MIX',\n",
       "  'BLACK MOUTH CUR/MIX',\n",
       "  'MASTIFF/MIX',\n",
       "  'VIZSLA/MIX',\n",
       "  'BULL TERRIER/MIX',\n",
       "  'RHOD RIDGEBACK/LABRADOR RETR',\n",
       "  'GERM SHEPHERD/CHOW CHOW',\n",
       "  'CAROLINA DOG',\n",
       "  'POMERANIAN/ITAL GREYHOUND'],\n",
       " 'color': ['TAN/BLACK',\n",
       "  'WHITE/ORG TABBY',\n",
       "  'FAWN',\n",
       "  'CALICO/BRN TABBY',\n",
       "  'BR BRINDLE/WHITE',\n",
       "  'CHOCOLATE/TAN',\n",
       "  'BLUE/FAWN',\n",
       "  'LILAC PT/WHITE',\n",
       "  'BLK SMOKE',\n",
       "  'FAWN/WHITE'],\n",
       " 'gender': ['Unknown', 'Male', 'Female'],\n",
       " 'intake_jurisdiction': ['*SONOMA',\n",
       "  '*TRIBAL RESV',\n",
       "  'UNKNOWN',\n",
       "  '*SEBASTOPOL',\n",
       "  '*PETALUMA',\n",
       "  '*COTATI',\n",
       "  'OUT OF COUNTY',\n",
       "  '*CLOVERDALE',\n",
       "  '*HEALDSBURG',\n",
       "  '*ROHNERT PARK'],\n",
       " 'intake_subtype': ['OVER THE COUNTER_STRAY',\n",
       "  'OVER THE COUNTER_OS',\n",
       "  'RESCUE_GRP',\n",
       "  'OVER THE COUNTER_RETURN TO OWNER',\n",
       "  'OVER THE COUNTER_ARREST',\n",
       "  'FLD_LIVSTK',\n",
       "  'OVER THE COUNTER_CORONR',\n",
       "  'OVER THE COUNTER_EVICT',\n",
       "  'OVER THE COUNTER_OWNED',\n",
       "  'OVER THE COUNTER']}"
      ]
     },
     "execution_count": 12,
     "metadata": {},
     "output_type": "execute_result"
    }
   ],
   "source": [
    "coefficient_dict"
   ]
  },
  {
   "cell_type": "code",
   "execution_count": 107,
   "metadata": {},
   "outputs": [],
   "source": [
    "# calculating the percentage \n",
    "adopt_return_ratio_dict = {}\n",
    "\n",
    "for k, v in coefficient_dict.items():\n",
    "    for value in v:\n",
    "        if len(animal_df.loc[animal_df[k] == value, \"adopt_return\"].value_counts().values) > 1:\n",
    "            adopt_return_ratio = (animal_df.loc[animal_df[k] == value, \"adopt_return\"]\n",
    "                                  .value_counts().values[1]/\n",
    "                                  animal_df[animal_df[k] == value].shape[0]\n",
    "                                 )\n",
    "            total_count = animal_df[animal_df[k] == value].shape[0]\n",
    "            # if people return this animal with a 0.15 ratio or greater, add it to the dictionary\n",
    "            if adopt_return_ratio > 0.15:\n",
    "                adopt_return_ratio_dict[value] = (f\"Adopt Return Ratio: {round(adopt_return_ratio, 2)}, Count:{total_count}\")"
   ]
  },
  {
   "cell_type": "markdown",
   "metadata": {},
   "source": [
    "In this dictionary, there are 6 total dogs with the breed BORDER COLLIE/PIT BULL. It had an adoption return ratio of 0.17. That seems high, but that's because the sample size is so small."
   ]
  },
  {
   "cell_type": "code",
   "execution_count": 108,
   "metadata": {},
   "outputs": [
    {
     "data": {
      "text/plain": [
       "{'BORDER COLLIE/PIT BULL': 'Adopt Return Ratio: 0.17, Count:6',\n",
       " 'GERM SHEPHERD/BELG MALINOIS': 'Adopt Return Ratio: 0.17, Count:6',\n",
       " 'MANX/MIX': 'Adopt Return Ratio: 0.17, Count:6',\n",
       " 'PIT BULL/CATAHOULA': 'Adopt Return Ratio: 0.2, Count:5',\n",
       " 'DACHSHUND/PARSON RUSS TER': 'Adopt Return Ratio: 0.2, Count:5',\n",
       " 'FLAT COAT RETR/MIX': 'Adopt Return Ratio: 0.2, Count:5',\n",
       " 'PLOTT HOUND': 'Adopt Return Ratio: 0.2, Count:5',\n",
       " 'MASTIFF/PIT BULL': 'Adopt Return Ratio: 0.25, Count:4',\n",
       " 'TOY FOX TERRIER': 'Adopt Return Ratio: 0.25, Count:4',\n",
       " 'HOTOT/MIX': 'Adopt Return Ratio: 0.25, Count:4',\n",
       " 'CHIHUAHUA SH/BEAGLE': 'Adopt Return Ratio: 0.25, Count:4',\n",
       " 'FOX TERR SMOOTH/BEAGLE': 'Adopt Return Ratio: 0.25, Count:4',\n",
       " 'LABRADOR RETR/MALTESE': 'Adopt Return Ratio: 0.25, Count:4',\n",
       " 'BEAGLE/CHIHUAHUA SH': 'Adopt Return Ratio: 0.33, Count:3',\n",
       " 'NEW ZEALAND WHT': 'Adopt Return Ratio: 0.33, Count:3',\n",
       " 'STAFFORDSHIRE/MIX': 'Adopt Return Ratio: 0.33, Count:3',\n",
       " 'POODLE MIN/BICHON FRISE': 'Adopt Return Ratio: 0.33, Count:3',\n",
       " 'AUST CATTLE DOG/QUEENSLAND HEEL': 'Adopt Return Ratio: 0.33, Count:3',\n",
       " 'DOMESTIC LH/MAINE COON': 'Adopt Return Ratio: 0.33, Count:3',\n",
       " 'RAT TERRIER/AUST CATTLE DOG': 'Adopt Return Ratio: 0.5, Count:2',\n",
       " 'PBGV/MIX': 'Adopt Return Ratio: 0.5, Count:2',\n",
       " 'CAIRN TERRIER/YORKSHIRE TERR': 'Adopt Return Ratio: 0.5, Count:2',\n",
       " 'DACHSHUND WH/CAIRN TERRIER': 'Adopt Return Ratio: 0.5, Count:2',\n",
       " 'TIBETAN SPAN/CHIHUAHUA LH': 'Adopt Return Ratio: 0.5, Count:2',\n",
       " 'BLACK MOUTH CUR/CATAHOULA': 'Adopt Return Ratio: 0.5, Count:2',\n",
       " 'COCKER SPAN/CHIHUAHUA SH': 'Adopt Return Ratio: 0.5, Count:2',\n",
       " 'TURKISH ANGORA': 'Adopt Return Ratio: 0.5, Count:2',\n",
       " 'TURKISH VAN/MIX': 'Adopt Return Ratio: 0.5, Count:2',\n",
       " 'ENG BULLDOG/FRENCH BULLDOG': 'Adopt Return Ratio: 0.5, Count:2',\n",
       " 'DUTCH SHEPHERD/MIX': 'Adopt Return Ratio: 0.17, Count:12',\n",
       " 'TR WALKER HOUND/MIX': 'Adopt Return Ratio: 0.18, Count:11',\n",
       " 'BLACK MOUTH CUR/MIX': 'Adopt Return Ratio: 0.25, Count:8',\n",
       " 'VIZSLA/MIX': 'Adopt Return Ratio: 0.29, Count:7',\n",
       " 'BULL TERRIER/MIX': 'Adopt Return Ratio: 0.33, Count:6',\n",
       " 'RHOD RIDGEBACK/LABRADOR RETR': 'Adopt Return Ratio: 0.5, Count:4',\n",
       " 'GERM SHEPHERD/CHOW CHOW': 'Adopt Return Ratio: 0.5, Count:4',\n",
       " 'CAROLINA DOG': 'Adopt Return Ratio: 0.33, Count:3',\n",
       " 'POMERANIAN/ITAL GREYHOUND': 'Adopt Return Ratio: 0.33, Count:12',\n",
       " 'CHOCOLATE/TAN': 'Adopt Return Ratio: 0.17, Count:6',\n",
       " 'BLUE/FAWN': 'Adopt Return Ratio: 0.2, Count:5',\n",
       " 'LILAC PT/WHITE': 'Adopt Return Ratio: 0.33, Count:3',\n",
       " '*COTATI': 'Adopt Return Ratio: 0.25, Count:4',\n",
       " 'OUT OF COUNTY': 'Adopt Return Ratio: 0.16, Count:140',\n",
       " '*CLOVERDALE': 'Adopt Return Ratio: 0.19, Count:26',\n",
       " '*HEALDSBURG': 'Adopt Return Ratio: 0.24, Count:49',\n",
       " '*ROHNERT PARK': 'Adopt Return Ratio: 0.25, Count:61'}"
      ]
     },
     "execution_count": 108,
     "metadata": {},
     "output_type": "execute_result"
    }
   ],
   "source": [
    "adopt_return_ratio_dict"
   ]
  },
  {
   "cell_type": "code",
   "execution_count": 43,
   "metadata": {},
   "outputs": [
    {
     "data": {
      "text/plain": [
       "DOMESTIC SH                  76\n",
       "PIT BULL                     31\n",
       "CHIHUAHUA SH                 21\n",
       "PIT BULL/MIX                 15\n",
       "GERM SHEPHERD                15\n",
       "                             ..\n",
       "MASTIFF/PIT BULL              1\n",
       "HOTOT/MIX                     1\n",
       "PBGV/MIX                      1\n",
       "DACHSHUND/PARSON RUSS TER     1\n",
       "BORDER COLLIE/PIT BULL        1\n",
       "Name: breed, Length: 112, dtype: int64"
      ]
     },
     "execution_count": 43,
     "metadata": {},
     "output_type": "execute_result"
    }
   ],
   "source": [
    "# the most often returned breed is Domestic SH, then pit bulls\n",
    "animal_df.loc[animal_df[\"adopt_return\"] == 1,\"breed\"].value_counts()"
   ]
  },
  {
   "cell_type": "code",
   "execution_count": 19,
   "metadata": {},
   "outputs": [],
   "source": [
    "# create a column for the top 10 breeds and top 10 colors just in case\n",
    "top_breeds = animal_df[\"breed\"].value_counts().index[:10]\n",
    "top_colors = animal_df[\"color\"].value_counts().index[:10]\n",
    "animal_df[\"top_breeds\"] = animal_df[\"breed\"].apply(lambda x: x if x in top_breeds else \"OTHER\")\n",
    "animal_df[\"top_colors\"] = animal_df[\"color\"].apply(lambda x: x if x in top_colors else \"OTHER\")"
   ]
  },
  {
   "cell_type": "code",
   "execution_count": 20,
   "metadata": {},
   "outputs": [
    {
     "data": {
      "text/html": [
       "<div>\n",
       "<style scoped>\n",
       "    .dataframe tbody tr th:only-of-type {\n",
       "        vertical-align: middle;\n",
       "    }\n",
       "\n",
       "    .dataframe tbody tr th {\n",
       "        vertical-align: top;\n",
       "    }\n",
       "\n",
       "    .dataframe thead th {\n",
       "        text-align: right;\n",
       "    }\n",
       "</style>\n",
       "<table border=\"1\" class=\"dataframe\">\n",
       "  <thead>\n",
       "    <tr style=\"text-align: right;\">\n",
       "      <th></th>\n",
       "      <th>name</th>\n",
       "      <th>type</th>\n",
       "      <th>breed</th>\n",
       "      <th>color</th>\n",
       "      <th>sex</th>\n",
       "      <th>size</th>\n",
       "      <th>date_of_birth</th>\n",
       "      <th>intake_date</th>\n",
       "      <th>days_in_shelter</th>\n",
       "      <th>intake_type</th>\n",
       "      <th>...</th>\n",
       "      <th>spay_neuter</th>\n",
       "      <th>color_1</th>\n",
       "      <th>color_2</th>\n",
       "      <th>breed_1</th>\n",
       "      <th>breed_2</th>\n",
       "      <th>clean_name</th>\n",
       "      <th>has_name</th>\n",
       "      <th>age</th>\n",
       "      <th>top_breeds</th>\n",
       "      <th>top_colors</th>\n",
       "    </tr>\n",
       "  </thead>\n",
       "  <tbody>\n",
       "    <tr>\n",
       "      <th>0</th>\n",
       "      <td>NICO</td>\n",
       "      <td>DOG</td>\n",
       "      <td>POMERANIAN</td>\n",
       "      <td>BROWN</td>\n",
       "      <td>Male</td>\n",
       "      <td>MED</td>\n",
       "      <td>2016-02-01</td>\n",
       "      <td>2020-07-12</td>\n",
       "      <td>0</td>\n",
       "      <td>STRAY</td>\n",
       "      <td>...</td>\n",
       "      <td>0</td>\n",
       "      <td>BROWN</td>\n",
       "      <td>NaN</td>\n",
       "      <td>POMERANIAN</td>\n",
       "      <td>NaN</td>\n",
       "      <td>NICO</td>\n",
       "      <td>1</td>\n",
       "      <td>5.0</td>\n",
       "      <td>OTHER</td>\n",
       "      <td>BROWN</td>\n",
       "    </tr>\n",
       "    <tr>\n",
       "      <th>1</th>\n",
       "      <td>NaN</td>\n",
       "      <td>DOG</td>\n",
       "      <td>PIT BULL/MIX</td>\n",
       "      <td>BLACK/WHITE</td>\n",
       "      <td>Female</td>\n",
       "      <td>MED</td>\n",
       "      <td>NaT</td>\n",
       "      <td>2020-07-12</td>\n",
       "      <td>0</td>\n",
       "      <td>STRAY</td>\n",
       "      <td>...</td>\n",
       "      <td>0</td>\n",
       "      <td>BLACK</td>\n",
       "      <td>WHITE</td>\n",
       "      <td>PIT BULL</td>\n",
       "      <td>MIX</td>\n",
       "      <td>NaN</td>\n",
       "      <td>0</td>\n",
       "      <td>NaN</td>\n",
       "      <td>PIT BULL/MIX</td>\n",
       "      <td>BLACK/WHITE</td>\n",
       "    </tr>\n",
       "    <tr>\n",
       "      <th>2</th>\n",
       "      <td>SKY</td>\n",
       "      <td>DOG</td>\n",
       "      <td>GERM SHEPHERD</td>\n",
       "      <td>BLACK/TAN</td>\n",
       "      <td>Female</td>\n",
       "      <td>MED</td>\n",
       "      <td>NaT</td>\n",
       "      <td>2020-01-19</td>\n",
       "      <td>4</td>\n",
       "      <td>STRAY</td>\n",
       "      <td>...</td>\n",
       "      <td>0</td>\n",
       "      <td>BLACK</td>\n",
       "      <td>TAN</td>\n",
       "      <td>GERM SHEPHERD</td>\n",
       "      <td>NaN</td>\n",
       "      <td>SKY</td>\n",
       "      <td>1</td>\n",
       "      <td>NaN</td>\n",
       "      <td>GERM SHEPHERD</td>\n",
       "      <td>BLACK/TAN</td>\n",
       "    </tr>\n",
       "    <tr>\n",
       "      <th>3</th>\n",
       "      <td>COCO</td>\n",
       "      <td>DOG</td>\n",
       "      <td>BEAGLE</td>\n",
       "      <td>TRICOLOR</td>\n",
       "      <td>Neutered</td>\n",
       "      <td>SMALL</td>\n",
       "      <td>2015-04-06</td>\n",
       "      <td>2017-08-30</td>\n",
       "      <td>35</td>\n",
       "      <td>STRAY</td>\n",
       "      <td>...</td>\n",
       "      <td>1</td>\n",
       "      <td>TRICOLOR</td>\n",
       "      <td>NaN</td>\n",
       "      <td>BEAGLE</td>\n",
       "      <td>NaN</td>\n",
       "      <td>COCO</td>\n",
       "      <td>1</td>\n",
       "      <td>6.0</td>\n",
       "      <td>OTHER</td>\n",
       "      <td>OTHER</td>\n",
       "    </tr>\n",
       "    <tr>\n",
       "      <th>4</th>\n",
       "      <td>SUZIE</td>\n",
       "      <td>DOG</td>\n",
       "      <td>LABRADOR RETR/MIX</td>\n",
       "      <td>BLACK</td>\n",
       "      <td>Spayed</td>\n",
       "      <td>LARGE</td>\n",
       "      <td>2011-01-23</td>\n",
       "      <td>2015-01-07</td>\n",
       "      <td>17</td>\n",
       "      <td>STRAY</td>\n",
       "      <td>...</td>\n",
       "      <td>1</td>\n",
       "      <td>BLACK</td>\n",
       "      <td>NaN</td>\n",
       "      <td>LABRADOR RETR</td>\n",
       "      <td>MIX</td>\n",
       "      <td>SUZIE</td>\n",
       "      <td>1</td>\n",
       "      <td>10.0</td>\n",
       "      <td>OTHER</td>\n",
       "      <td>BLACK</td>\n",
       "    </tr>\n",
       "  </tbody>\n",
       "</table>\n",
       "<p>5 rows × 32 columns</p>\n",
       "</div>"
      ],
      "text/plain": [
       "    name type              breed        color       sex   size date_of_birth  \\\n",
       "0   NICO  DOG         POMERANIAN        BROWN      Male    MED    2016-02-01   \n",
       "1    NaN  DOG       PIT BULL/MIX  BLACK/WHITE    Female    MED           NaT   \n",
       "2    SKY  DOG      GERM SHEPHERD    BLACK/TAN    Female    MED           NaT   \n",
       "3   COCO  DOG             BEAGLE     TRICOLOR  Neutered  SMALL    2015-04-06   \n",
       "4  SUZIE  DOG  LABRADOR RETR/MIX        BLACK    Spayed  LARGE    2011-01-23   \n",
       "\n",
       "  intake_date  days_in_shelter intake_type  ... spay_neuter   color_1 color_2  \\\n",
       "0  2020-07-12                0       STRAY  ...           0     BROWN     NaN   \n",
       "1  2020-07-12                0       STRAY  ...           0     BLACK   WHITE   \n",
       "2  2020-01-19                4       STRAY  ...           0     BLACK     TAN   \n",
       "3  2017-08-30               35       STRAY  ...           1  TRICOLOR     NaN   \n",
       "4  2015-01-07               17       STRAY  ...           1     BLACK     NaN   \n",
       "\n",
       "         breed_1 breed_2 clean_name has_name   age     top_breeds   top_colors  \n",
       "0     POMERANIAN     NaN       NICO        1   5.0          OTHER        BROWN  \n",
       "1       PIT BULL     MIX        NaN        0   NaN   PIT BULL/MIX  BLACK/WHITE  \n",
       "2  GERM SHEPHERD     NaN        SKY        1   NaN  GERM SHEPHERD    BLACK/TAN  \n",
       "3         BEAGLE     NaN       COCO        1   6.0          OTHER        OTHER  \n",
       "4  LABRADOR RETR     MIX      SUZIE        1  10.0          OTHER        BLACK  \n",
       "\n",
       "[5 rows x 32 columns]"
      ]
     },
     "execution_count": 20,
     "metadata": {},
     "output_type": "execute_result"
    }
   ],
   "source": [
    "animal_df.head()"
   ]
  },
  {
   "cell_type": "markdown",
   "metadata": {},
   "source": [
    "Doing more research. Like many other counties in California, there is [mandatory sterilizatio](https://www.dogsbite.org/legislating-dangerous-dogs-california.php) of pit bulls in Sonoma County. Additionally, pit bulls are one of the most stigmatized dog breeds in America and are infamous for their aggressive behavior. Does being a pit bull mean an animal is more likely to be returned?\n",
    "\n",
    "Sec. 5-171 on Sonoma County Municipal code states:\n",
    "```\n",
    "Sec. 5-171. - Mandatory spay and neutering of all pit bulls.\n",
    "\n",
    "No person shall own, harbor or keep within the unincorporated area of this county, a pit bull over the age of four months, which has not been spayed or neutered, except as provided in Section 5-170 (a)-(g), above.\n",
    "```\n",
    "\n",
    "I'll include a new column in my dataframe indicating whether an animal is a pit bull or not."
   ]
  },
  {
   "cell_type": "code",
   "execution_count": 21,
   "metadata": {},
   "outputs": [],
   "source": [
    "animal_df[\"pit_bull\"] = animal_df[\"breed\"].apply(lambda x: 1 if \"PIT BULL\" in str(x) else 0)"
   ]
  },
  {
   "cell_type": "markdown",
   "metadata": {},
   "source": [
    "Final bits of data cleaning. I also want to examine my features split by my target feature. Create a new column for adoption returns where a 1 means the animal was returned from adoption and a 0 stands for all other values."
   ]
  },
  {
   "cell_type": "code",
   "execution_count": 23,
   "metadata": {},
   "outputs": [],
   "source": [
    "# do a bit more cleaning and rename KITTN to KITTEN\n",
    "animal_df.loc[animal_df[\"size\"] == \"KITTN\", \"size\"] = \"KITTEN\"\n",
    "\n",
    "# make a new column for my target feature\n",
    "animal_df[\"adopt_return\"] = animal_df[\"intake_type\"].apply(lambda x: 1 if x == \"ADOPTION RETURN\" else 0)\n",
    "\n",
    "# clean up intake_jurisdiction column\n",
    "animal_df[\"intake_location\"] = animal_df[\"intake_jurisdiction\"].apply(lambda x: x.replace('*',''))\n",
    "animal_df.loc[animal_df[\"intake_location\"] == \"COUNTY\", \"intake_location\"] = \"SONOMA COUNTY\""
   ]
  },
  {
   "cell_type": "code",
   "execution_count": 25,
   "metadata": {},
   "outputs": [],
   "source": [
    "# Save animal_df as a pickle file\n",
    "animal_df.to_pickle(\"data/animal_cleaned_df.pickle\")"
   ]
  },
  {
   "cell_type": "code",
   "execution_count": 2,
   "metadata": {},
   "outputs": [],
   "source": [
    "# Open the latest cleaned animal_df\n",
    "with open(\"data/animal_cleaned_df.pickle\", 'rb') as read_file:\n",
    "    animal_df = pickle.load(read_file)"
   ]
  }
 ],
 "metadata": {
  "kernelspec": {
   "display_name": "Python 3",
   "language": "python",
   "name": "python3"
  },
  "language_info": {
   "codemirror_mode": {
    "name": "ipython",
    "version": 3
   },
   "file_extension": ".py",
   "mimetype": "text/x-python",
   "name": "python",
   "nbconvert_exporter": "python",
   "pygments_lexer": "ipython3",
   "version": "3.7.7"
  }
 },
 "nbformat": 4,
 "nbformat_minor": 4
}
